{
 "cells": [
  {
   "cell_type": "code",
   "execution_count": 1,
   "metadata": {},
   "outputs": [],
   "source": [
    "import nltk"
   ]
  },
  {
   "cell_type": "code",
   "execution_count": 2,
   "metadata": {},
   "outputs": [
    {
     "name": "stderr",
     "output_type": "stream",
     "text": [
      "[nltk_data] Downloading package punkt to\n",
      "[nltk_data]     C:\\Users\\DELL\\AppData\\Roaming\\nltk_data...\n",
      "[nltk_data]   Package punkt is already up-to-date!\n",
      "[nltk_data] Downloading package averaged_perceptron_tagger to\n",
      "[nltk_data]     C:\\Users\\DELL\\AppData\\Roaming\\nltk_data...\n",
      "[nltk_data]   Package averaged_perceptron_tagger is already up-to-\n",
      "[nltk_data]       date!\n",
      "[nltk_data] Downloading package stopwords to\n",
      "[nltk_data]     C:\\Users\\DELL\\AppData\\Roaming\\nltk_data...\n",
      "[nltk_data]   Package stopwords is already up-to-date!\n"
     ]
    },
    {
     "data": {
      "text/plain": [
       "True"
      ]
     },
     "execution_count": 2,
     "metadata": {},
     "output_type": "execute_result"
    }
   ],
   "source": [
    "import nltk\n",
    "nltk.download(\"punkt\")\n",
    "nltk.download(\"averaged_perceptron_tagger\")\n",
    "nltk.download(\"stopwords\")"
   ]
  },
  {
   "cell_type": "code",
   "execution_count": 3,
   "metadata": {},
   "outputs": [
    {
     "name": "stderr",
     "output_type": "stream",
     "text": [
      "[nltk_data] Downloading package punkt to\n",
      "[nltk_data]     C:\\Users\\DELL\\AppData\\Roaming\\nltk_data...\n",
      "[nltk_data]   Package punkt is already up-to-date!\n",
      "[nltk_data] Downloading package stopwords to\n",
      "[nltk_data]     C:\\Users\\DELL\\AppData\\Roaming\\nltk_data...\n",
      "[nltk_data]   Package stopwords is already up-to-date!\n"
     ]
    },
    {
     "data": {
      "text/plain": [
       "True"
      ]
     },
     "execution_count": 3,
     "metadata": {},
     "output_type": "execute_result"
    }
   ],
   "source": [
    "nltk.download('punkt')\n",
    "nltk.download('stopwords')"
   ]
  },
  {
   "cell_type": "code",
   "execution_count": 4,
   "metadata": {},
   "outputs": [],
   "source": [
    "from nltk import word_tokenize, sent_tokenize"
   ]
  },
  {
   "cell_type": "code",
   "execution_count": 5,
   "metadata": {},
   "outputs": [
    {
     "data": {
      "text/plain": [
       "'zcoer is established in 2007 which symbolized the beginning of new era in technical education. the college offers ug engineering degree courses in civil engineering, computer engineering, and electrical engineering, information technology, electronics & telecommunication  and mechanical engineering. the college also offers pg courses in computer engineering, electrical engineering (power system), electronics & telecommunication (vlsi and embedded system), mechanical engineering (me design / cadem) and master of business administration. the institute is also granted as phd research center in computer engineering, electronics & telecommunication and mechanical engineering under savitribai phule pune unuversity, pune (sppu) since 2013.\\nthe college has the experienced and highly qualified staff, specious classrooms and well equipped laboratories.\\nwith state of the art research , infrastructural, sports, cultural facilities, the campus provides excellent academic ambience for the students, hence it is one of the sought after engineering colleges in pune.'"
      ]
     },
     "execution_count": 5,
     "metadata": {},
     "output_type": "execute_result"
    }
   ],
   "source": [
    "sent = \"\"\"ZCOER is established in 2007 which symbolized the beginning of new era in technical education. The college offers UG engineering degree courses in Civil Engineering, Computer Engineering, and Electrical Engineering, Information Technology, Electronics & Telecommunication  and Mechanical Engineering. The college also offers PG courses in Computer Engineering, Electrical Engineering (Power System), Electronics & Telecommunication (VLSI and Embedded System), Mechanical Engineering (ME Design / CADEM) and Master of Business Administration. The institute is also granted as PhD research center in Computer Engineering, Electronics & Telecommunication and Mechanical Engineering under Savitribai Phule Pune Unuversity, Pune (SPPU) since 2013.\n",
    "The college has the experienced and highly qualified staff, specious classrooms and well equipped laboratories.\n",
    "With state of the art research , infrastructural, sports, cultural facilities, the campus provides excellent academic ambience for the students, Hence it is one of the sought after engineering colleges in Pune.\"\"\"\n",
    "sent= sent.lower()\n",
    "sent"
   ]
  },
  {
   "cell_type": "code",
   "execution_count": 6,
   "metadata": {},
   "outputs": [
    {
     "name": "stdout",
     "output_type": "stream",
     "text": [
      "['zcoer', 'is', 'established', 'in', '2007', 'which', 'symbolized', 'the', 'beginning', 'of', 'new', 'era', 'in', 'technical', 'education', '.', 'the', 'college', 'offers', 'ug', 'engineering', 'degree', 'courses', 'in', 'civil', 'engineering', ',', 'computer', 'engineering', ',', 'and', 'electrical', 'engineering', ',', 'information', 'technology', ',', 'electronics', '&', 'telecommunication', 'and', 'mechanical', 'engineering', '.', 'the', 'college', 'also', 'offers', 'pg', 'courses', 'in', 'computer', 'engineering', ',', 'electrical', 'engineering', '(', 'power', 'system', ')', ',', 'electronics', '&', 'telecommunication', '(', 'vlsi', 'and', 'embedded', 'system', ')', ',', 'mechanical', 'engineering', '(', 'me', 'design', '/', 'cadem', ')', 'and', 'master', 'of', 'business', 'administration', '.', 'the', 'institute', 'is', 'also', 'granted', 'as', 'phd', 'research', 'center', 'in', 'computer', 'engineering', ',', 'electronics', '&', 'telecommunication', 'and', 'mechanical', 'engineering', 'under', 'savitribai', 'phule', 'pune', 'unuversity', ',', 'pune', '(', 'sppu', ')', 'since', '2013.', 'the', 'college', 'has', 'the', 'experienced', 'and', 'highly', 'qualified', 'staff', ',', 'specious', 'classrooms', 'and', 'well', 'equipped', 'laboratories', '.', 'with', 'state', 'of', 'the', 'art', 'research', ',', 'infrastructural', ',', 'sports', ',', 'cultural', 'facilities', ',', 'the', 'campus', 'provides', 'excellent', 'academic', 'ambience', 'for', 'the', 'students', ',', 'hence', 'it', 'is', 'one', 'of', 'the', 'sought', 'after', 'engineering', 'colleges', 'in', 'pune', '.']\n"
     ]
    }
   ],
   "source": [
    "print(word_tokenize(sent))"
   ]
  },
  {
   "cell_type": "code",
   "execution_count": 7,
   "metadata": {},
   "outputs": [
    {
     "name": "stdout",
     "output_type": "stream",
     "text": [
      "['zcoer is established in 2007 which symbolized the beginning of new era in technical education.', 'the college offers ug engineering degree courses in civil engineering, computer engineering, and electrical engineering, information technology, electronics & telecommunication  and mechanical engineering.', 'the college also offers pg courses in computer engineering, electrical engineering (power system), electronics & telecommunication (vlsi and embedded system), mechanical engineering (me design / cadem) and master of business administration.', 'the institute is also granted as phd research center in computer engineering, electronics & telecommunication and mechanical engineering under savitribai phule pune unuversity, pune (sppu) since 2013.\\nthe college has the experienced and highly qualified staff, specious classrooms and well equipped laboratories.', 'with state of the art research , infrastructural, sports, cultural facilities, the campus provides excellent academic ambience for the students, hence it is one of the sought after engineering colleges in pune.']\n"
     ]
    }
   ],
   "source": [
    "print(sent_tokenize(sent))"
   ]
  },
  {
   "cell_type": "code",
   "execution_count": 8,
   "metadata": {},
   "outputs": [
    {
     "name": "stdout",
     "output_type": "stream",
     "text": [
      "This is the unclean version: ['zcoer', 'is', 'established', 'in', '2007', 'which', 'symbolized', 'the', 'beginning', 'of', 'new', 'era', 'in', 'technical', 'education', '.', 'the', 'college', 'offers', 'ug', 'engineering', 'degree', 'courses', 'in', 'civil', 'engineering', ',', 'computer', 'engineering', ',', 'and', 'electrical', 'engineering', ',', 'information', 'technology', ',', 'electronics', '&', 'telecommunication', 'and', 'mechanical', 'engineering', '.', 'the', 'college', 'also', 'offers', 'pg', 'courses', 'in', 'computer', 'engineering', ',', 'electrical', 'engineering', '(', 'power', 'system', ')', ',', 'electronics', '&', 'telecommunication', '(', 'vlsi', 'and', 'embedded', 'system', ')', ',', 'mechanical', 'engineering', '(', 'me', 'design', '/', 'cadem', ')', 'and', 'master', 'of', 'business', 'administration', '.', 'the', 'institute', 'is', 'also', 'granted', 'as', 'phd', 'research', 'center', 'in', 'computer', 'engineering', ',', 'electronics', '&', 'telecommunication', 'and', 'mechanical', 'engineering', 'under', 'savitribai', 'phule', 'pune', 'unuversity', ',', 'pune', '(', 'sppu', ')', 'since', '2013.', 'the', 'college', 'has', 'the', 'experienced', 'and', 'highly', 'qualified', 'staff', ',', 'specious', 'classrooms', 'and', 'well', 'equipped', 'laboratories', '.', 'with', 'state', 'of', 'the', 'art', 'research', ',', 'infrastructural', ',', 'sports', ',', 'cultural', 'facilities', ',', 'the', 'campus', 'provides', 'excellent', 'academic', 'ambience', 'for', 'the', 'students', ',', 'hence', 'it', 'is', 'one', 'of', 'the', 'sought', 'after', 'engineering', 'colleges', 'in', 'pune', '.']\n",
      "This is the cleaned version: ['zcoer', 'established', '2007', 'symbolized', 'beginning', 'new', 'era', 'technical', 'education', '.', 'college', 'offers', 'ug', 'engineering', 'degree', 'courses', 'civil', 'engineering', ',', 'computer', 'engineering', ',', 'electrical', 'engineering', ',', 'information', 'technology', ',', 'electronics', '&', 'telecommunication', 'mechanical', 'engineering', '.', 'college', 'also', 'offers', 'pg', 'courses', 'computer', 'engineering', ',', 'electrical', 'engineering', '(', 'power', 'system', ')', ',', 'electronics', '&', 'telecommunication', '(', 'vlsi', 'embedded', 'system', ')', ',', 'mechanical', 'engineering', '(', 'design', '/', 'cadem', ')', 'master', 'business', 'administration', '.', 'institute', 'also', 'granted', 'phd', 'research', 'center', 'computer', 'engineering', ',', 'electronics', '&', 'telecommunication', 'mechanical', 'engineering', 'savitribai', 'phule', 'pune', 'unuversity', ',', 'pune', '(', 'sppu', ')', 'since', '2013.', 'college', 'experienced', 'highly', 'qualified', 'staff', ',', 'specious', 'classrooms', 'well', 'equipped', 'laboratories', '.', 'state', 'art', 'research', ',', 'infrastructural', ',', 'sports', ',', 'cultural', 'facilities', ',', 'campus', 'provides', 'excellent', 'academic', 'ambience', 'students', ',', 'hence', 'one', 'sought', 'engineering', 'colleges', 'pune', '.']\n"
     ]
    }
   ],
   "source": [
    "from nltk.corpus import stopwords        # the corpus module is an \n",
    "                                         # extremely useful one. \n",
    "                                         # More on that later.\n",
    "stop_words = stopwords.words('english')  # this is the full list of\n",
    "                                         # all stop-words stored in\n",
    "                                         # nltk\n",
    "token = word_tokenize(sent)\n",
    "cleaned_token = []\n",
    "for word in token:\n",
    "    if word not in stop_words:\n",
    "        cleaned_token.append(word)\n",
    "print(\"This is the unclean version:\", token)\n",
    "print(\"This is the cleaned version:\", cleaned_token)"
   ]
  },
  {
   "cell_type": "code",
   "execution_count": 9,
   "metadata": {},
   "outputs": [
    {
     "name": "stdout",
     "output_type": "stream",
     "text": [
      "['zcoer', 'establish', '2007', 'symbol', 'begin', 'new', 'era', 'technic', 'educ', '.', 'colleg', 'offer', 'ug', 'engin', 'degre', 'cours', 'civil', 'engin', ',', 'comput', 'engin', ',', 'electr', 'engin', ',', 'inform', 'technolog', ',', 'electron', '&', 'telecommun', 'mechan', 'engin', '.', 'colleg', 'also', 'offer', 'pg', 'cours', 'comput', 'engin', ',', 'electr', 'engin', '(', 'power', 'system', ')', ',', 'electron', '&', 'telecommun', '(', 'vlsi', 'embed', 'system', ')', ',', 'mechan', 'engin', '(', 'design', '/', 'cadem', ')', 'master', 'busi', 'administr', '.', 'institut', 'also', 'grant', 'phd', 'research', 'center', 'comput', 'engin', ',', 'electron', '&', 'telecommun', 'mechan', 'engin', 'savitribai', 'phule', 'pune', 'unuvers', ',', 'pune', '(', 'sppu', ')', 'sinc', '2013.', 'colleg', 'experienc', 'highli', 'qualifi', 'staff', ',', 'speciou', 'classroom', 'well', 'equip', 'laboratori', '.', 'state', 'art', 'research', ',', 'infrastructur', ',', 'sport', ',', 'cultur', 'facil', ',', 'campu', 'provid', 'excel', 'academ', 'ambienc', 'student', ',', 'henc', 'one', 'sought', 'engin', 'colleg', 'pune', '.']\n"
     ]
    }
   ],
   "source": [
    "from nltk.stem import PorterStemmer\n",
    "stemmer = PorterStemmer()\n",
    "\n",
    "stemmed = [stemmer.stem(word) for word in cleaned_token]\n",
    "print(stemmed)"
   ]
  },
  {
   "cell_type": "code",
   "execution_count": 10,
   "metadata": {},
   "outputs": [
    {
     "name": "stdout",
     "output_type": "stream",
     "text": [
      "zcoer is establish in 2007 which symbol the begin of new era in technic educ . the colleg offer ug engin degre cours in civil engin , comput engin , and electr engin , inform technolog , electron & telecommun and mechan engin . the colleg also offer pg cours in comput engin , electr engin ( power system ) , electron & telecommun ( vlsi and embed system ) , mechan engin ( me design / cadem ) and master of busi administr . the institut is also grant as phd research center in comput engin , electron & telecommun and mechan engin under savitribai phule pune unuvers , pune ( sppu ) sinc 2013. the colleg ha the experienc and highli qualifi staff , speciou classroom and well equip laboratori . with state of the art research , infrastructur , sport , cultur facil , the campu provid excel academ ambienc for the student , henc it is one of the sought after engin colleg in pune . \n"
     ]
    }
   ],
   "source": [
    "#sent2 = \"I played the play playfully as the players were playing in the play with playfullness\"\n",
    "token = word_tokenize(sent)\n",
    "stemmed = \"\"\n",
    "for word in token:\n",
    "    stemmed += stemmer.stem(word) + \" \"\n",
    "print(stemmed)"
   ]
  },
  {
   "cell_type": "code",
   "execution_count": 11,
   "metadata": {},
   "outputs": [
    {
     "name": "stderr",
     "output_type": "stream",
     "text": [
      "[nltk_data] Downloading package omw-1.4 to\n",
      "[nltk_data]     C:\\Users\\DELL\\AppData\\Roaming\\nltk_data...\n",
      "[nltk_data] Downloading package wordnet to\n",
      "[nltk_data]     C:\\Users\\DELL\\AppData\\Roaming\\nltk_data...\n",
      "[nltk_data]   Package wordnet is already up-to-date!\n"
     ]
    },
    {
     "data": {
      "text/plain": [
       "True"
      ]
     },
     "execution_count": 11,
     "metadata": {},
     "output_type": "execute_result"
    }
   ],
   "source": [
    "nltk.download(\"omw-1.4\")\n",
    "nltk.download(\"wordnet\")"
   ]
  },
  {
   "cell_type": "code",
   "execution_count": 12,
   "metadata": {},
   "outputs": [
    {
     "name": "stdout",
     "output_type": "stream",
     "text": [
      "['zcoer', 'established', '2007', 'symbolized', 'beginning', 'new', 'era', 'technical', 'education', '.', 'college', 'offer', 'ug', 'engineering', 'degree', 'course', 'civil', 'engineering', ',', 'computer', 'engineering', ',', 'electrical', 'engineering', ',', 'information', 'technology', ',', 'electronics', '&', 'telecommunication', 'mechanical', 'engineering', '.', 'college', 'also', 'offer', 'pg', 'course', 'computer', 'engineering', ',', 'electrical', 'engineering', '(', 'power', 'system', ')', ',', 'electronics', '&', 'telecommunication', '(', 'vlsi', 'embedded', 'system', ')', ',', 'mechanical', 'engineering', '(', 'design', '/', 'cadem', ')', 'master', 'business', 'administration', '.', 'institute', 'also', 'granted', 'phd', 'research', 'center', 'computer', 'engineering', ',', 'electronics', '&', 'telecommunication', 'mechanical', 'engineering', 'savitribai', 'phule', 'pune', 'unuversity', ',', 'pune', '(', 'sppu', ')', 'since', '2013.', 'college', 'experienced', 'highly', 'qualified', 'staff', ',', 'specious', 'classroom', 'well', 'equipped', 'laboratory', '.', 'state', 'art', 'research', ',', 'infrastructural', ',', 'sport', ',', 'cultural', 'facility', ',', 'campus', 'provides', 'excellent', 'academic', 'ambience', 'student', ',', 'hence', 'one', 'sought', 'engineering', 'college', 'pune', '.']\n"
     ]
    }
   ],
   "source": [
    "from nltk.stem.wordnet import WordNetLemmatizer\n",
    "\n",
    "wordnet_lemmatizer = WordNetLemmatizer()\n",
    "lemmatized_tokens = [wordnet_lemmatizer.lemmatize(token) for token in cleaned_token]\n",
    "print(lemmatized_tokens)"
   ]
  },
  {
   "cell_type": "code",
   "execution_count": 13,
   "metadata": {},
   "outputs": [
    {
     "name": "stdout",
     "output_type": "stream",
     "text": [
      "[('zcoer', 'NN'), ('established', 'VBD'), ('2007', 'CD'), ('symbolized', 'VBD'), ('beginning', 'VBG'), ('new', 'JJ'), ('era', 'NN'), ('technical', 'JJ'), ('education', 'NN'), ('.', '.'), ('college', 'NN'), ('offers', 'NNS'), ('ug', 'JJ'), ('engineering', 'NN'), ('degree', 'NN'), ('courses', 'NNS'), ('civil', 'JJ'), ('engineering', 'NN'), (',', ','), ('computer', 'NN'), ('engineering', 'NN'), (',', ','), ('electrical', 'JJ'), ('engineering', 'NN'), (',', ','), ('information', 'NN'), ('technology', 'NN'), (',', ','), ('electronics', 'NNS'), ('&', 'CC'), ('telecommunication', 'NN'), ('mechanical', 'JJ'), ('engineering', 'NN'), ('.', '.'), ('college', 'NN'), ('also', 'RB'), ('offers', 'VBZ'), ('pg', 'NN'), ('courses', 'NNS'), ('computer', 'NN'), ('engineering', 'NN'), (',', ','), ('electrical', 'JJ'), ('engineering', 'NN'), ('(', '('), ('power', 'NN'), ('system', 'NN'), (')', ')'), (',', ','), ('electronics', 'NNS'), ('&', 'CC'), ('telecommunication', 'NN'), ('(', '('), ('vlsi', 'NN'), ('embedded', 'VBN'), ('system', 'NN'), (')', ')'), (',', ','), ('mechanical', 'JJ'), ('engineering', 'NN'), ('(', '('), ('design', 'NN'), ('/', 'NNP'), ('cadem', 'NN'), (')', ')'), ('master', 'NN'), ('business', 'NN'), ('administration', 'NN'), ('.', '.'), ('institute', 'NN'), ('also', 'RB'), ('granted', 'VBD'), ('phd', 'JJ'), ('research', 'NN'), ('center', 'NN'), ('computer', 'NN'), ('engineering', 'NN'), (',', ','), ('electronics', 'NNS'), ('&', 'CC'), ('telecommunication', 'NN'), ('mechanical', 'JJ'), ('engineering', 'NN'), ('savitribai', 'NN'), ('phule', 'NN'), ('pune', 'NN'), ('unuversity', 'NN'), (',', ','), ('pune', 'NN'), ('(', '('), ('sppu', 'NN'), (')', ')'), ('since', 'IN'), ('2013.', 'CD'), ('college', 'NN'), ('experienced', 'VBN'), ('highly', 'RB'), ('qualified', 'JJ'), ('staff', 'NN'), (',', ','), ('specious', 'JJ'), ('classrooms', 'NNS'), ('well', 'RB'), ('equipped', 'JJ'), ('laboratories', 'NNS'), ('.', '.'), ('state', 'NN'), ('art', 'NN'), ('research', 'NN'), (',', ','), ('infrastructural', 'JJ'), (',', ','), ('sports', 'NNS'), (',', ','), ('cultural', 'JJ'), ('facilities', 'NNS'), (',', ','), ('campus', 'NN'), ('provides', 'VBZ'), ('excellent', 'JJ'), ('academic', 'JJ'), ('ambience', 'NN'), ('students', 'NNS'), (',', ','), ('hence', 'RB'), ('one', 'CD'), ('sought', 'VBD'), ('engineering', 'NN'), ('colleges', 'NNS'), ('pune', 'VBP'), ('.', '.')]\n"
     ]
    }
   ],
   "source": [
    "pos_tag = nltk.pos_tag(cleaned_token)\n",
    "print(pos_tag)"
   ]
  },
  {
   "cell_type": "code",
   "execution_count": 14,
   "metadata": {},
   "outputs": [
    {
     "data": {
      "text/plain": [
       "['zcoer is established in 2007 which symbolized the beginning of new era in technical education.',\n",
       " 'the college offers ug engineering degree courses in civil engineering, computer engineering, and electrical engineering, information technology, electronics & telecommunication  and mechanical engineering.',\n",
       " 'the college also offers pg courses in computer engineering, electrical engineering (power system), electronics & telecommunication (vlsi and embedded system), mechanical engineering (me design / cadem) and master of business administration.',\n",
       " 'the institute is also granted as phd research center in computer engineering, electronics & telecommunication and mechanical engineering under savitribai phule pune unuversity, pune (sppu) since 2013.\\nthe college has the experienced and highly qualified staff, specious classrooms and well equipped laboratories.',\n",
       " 'with state of the art research , infrastructural, sports, cultural facilities, the campus provides excellent academic ambience for the students, hence it is one of the sought after engineering colleges in pune.']"
      ]
     },
     "execution_count": 14,
     "metadata": {},
     "output_type": "execute_result"
    }
   ],
   "source": [
    "ps = PorterStemmer()\n",
    "wordnet=WordNetLemmatizer()\n",
    "#sentences = nltk.sent_tokenize(paragraph)\n",
    "sentences = nltk.sent_tokenize(sent)\n",
    "sentences"
   ]
  },
  {
   "cell_type": "code",
   "execution_count": 15,
   "metadata": {},
   "outputs": [],
   "source": [
    "import re\n",
    "corpus=[]\n",
    "for i in range(len(sentences)):\n",
    "    review = re.sub('[^a-zA-Z]', ' ', sentences[i])\n",
    "    review = review.lower()\n",
    "    review = review.split()\n",
    "    review = [wordnet.lemmatize(word) for word in review if not word in set(stopwords.words('english'))]\n",
    "    review = ' '.join(review)\n",
    "    corpus.append(review)"
   ]
  },
  {
   "cell_type": "code",
   "execution_count": 16,
   "metadata": {},
   "outputs": [
    {
     "data": {
      "text/plain": [
       "['zcoer established symbolized beginning new era technical education',\n",
       " 'college offer ug engineering degree course civil engineering computer engineering electrical engineering information technology electronics telecommunication mechanical engineering',\n",
       " 'college also offer pg course computer engineering electrical engineering power system electronics telecommunication vlsi embedded system mechanical engineering design cadem master business administration',\n",
       " 'institute also granted phd research center computer engineering electronics telecommunication mechanical engineering savitribai phule pune unuversity pune sppu since college experienced highly qualified staff specious classroom well equipped laboratory',\n",
       " 'state art research infrastructural sport cultural facility campus provides excellent academic ambience student hence one sought engineering college pune']"
      ]
     },
     "execution_count": 16,
     "metadata": {},
     "output_type": "execute_result"
    }
   ],
   "source": [
    "corpus"
   ]
  },
  {
   "cell_type": "code",
   "execution_count": 17,
   "metadata": {},
   "outputs": [
    {
     "data": {
      "text/plain": [
       "'zcoer established symbolized beginning new era technical education college offer ug engineering degree course civil engineering computer engineering electrical engineering information technology electronics telecommunication mechanical engineering college also offer pg course computer engineering electrical engineering power system electronics telecommunication vlsi embedded system mechanical engineering design cadem master business administration institute also granted phd research center computer engineering electronics telecommunication mechanical engineering savitribai phule pune unuversity pune sppu since college experienced highly qualified staff specious classroom well equipped laboratory state art research infrastructural sport cultural facility campus provides excellent academic ambience student hence one sought engineering college pune'"
      ]
     },
     "execution_count": 17,
     "metadata": {},
     "output_type": "execute_result"
    }
   ],
   "source": [
    "new_sent = ' '.join(corpus)\n",
    "new_sent"
   ]
  },
  {
   "cell_type": "code",
   "execution_count": 18,
   "metadata": {},
   "outputs": [
    {
     "name": "stdout",
     "output_type": "stream",
     "text": [
      "['zcoer', 'established', 'symbolized', 'beginning', 'new', 'era', 'technical', 'education', 'college', 'offer', 'ug', 'engineering', 'degree', 'course', 'civil', 'engineering', 'computer', 'engineering', 'electrical', 'engineering', 'information', 'technology', 'electronics', 'telecommunication', 'mechanical', 'engineering', 'college', 'also', 'offer', 'pg', 'course', 'computer', 'engineering', 'electrical', 'engineering', 'power', 'system', 'electronics', 'telecommunication', 'vlsi', 'embedded', 'system', 'mechanical', 'engineering', 'design', 'cadem', 'master', 'business', 'administration', 'institute', 'also', 'granted', 'phd', 'research', 'center', 'computer', 'engineering', 'electronics', 'telecommunication', 'mechanical', 'engineering', 'savitribai', 'phule', 'pune', 'unuversity', 'pune', 'sppu', 'since', 'college', 'experienced', 'highly', 'qualified', 'staff', 'specious', 'classroom', 'well', 'equipped', 'laboratory', 'state', 'art', 'research', 'infrastructural', 'sport', 'cultural', 'facility', 'campus', 'provides', 'excellent', 'academic', 'ambience', 'student', 'hence', 'one', 'sought', 'engineering', 'college', 'pune']\n"
     ]
    }
   ],
   "source": [
    "cleaned_token = word_tokenize(new_sent)\n",
    "print(cleaned_token)"
   ]
  },
  {
   "cell_type": "code",
   "execution_count": 19,
   "metadata": {},
   "outputs": [
    {
     "name": "stdout",
     "output_type": "stream",
     "text": [
      "['zcoer', 'establish', 'symbol', 'begin', 'new', 'era', 'technic', 'educ', 'colleg', 'offer', 'ug', 'engin', 'degre', 'cours', 'civil', 'engin', 'comput', 'engin', 'electr', 'engin', 'inform', 'technolog', 'electron', 'telecommun', 'mechan', 'engin', 'colleg', 'also', 'offer', 'pg', 'cours', 'comput', 'engin', 'electr', 'engin', 'power', 'system', 'electron', 'telecommun', 'vlsi', 'embed', 'system', 'mechan', 'engin', 'design', 'cadem', 'master', 'busi', 'administr', 'institut', 'also', 'grant', 'phd', 'research', 'center', 'comput', 'engin', 'electron', 'telecommun', 'mechan', 'engin', 'savitribai', 'phule', 'pune', 'unuvers', 'pune', 'sppu', 'sinc', 'colleg', 'experienc', 'highli', 'qualifi', 'staff', 'speciou', 'classroom', 'well', 'equip', 'laboratori', 'state', 'art', 'research', 'infrastructur', 'sport', 'cultur', 'facil', 'campu', 'provid', 'excel', 'academ', 'ambienc', 'student', 'henc', 'one', 'sought', 'engin', 'colleg', 'pune']\n"
     ]
    }
   ],
   "source": [
    "#Stemming \n",
    "from nltk.stem import PorterStemmer\n",
    "stemmer = PorterStemmer()\n",
    "\n",
    "stemmed = [stemmer.stem(word) for word in cleaned_token]\n",
    "print(stemmed)"
   ]
  },
  {
   "cell_type": "code",
   "execution_count": 20,
   "metadata": {},
   "outputs": [
    {
     "data": {
      "text/plain": [
       "'enjo'"
      ]
     },
     "execution_count": 20,
     "metadata": {},
     "output_type": "execute_result"
    }
   ],
   "source": [
    "stemmer.stem('enjoing')"
   ]
  },
  {
   "cell_type": "code",
   "execution_count": 21,
   "metadata": {},
   "outputs": [
    {
     "name": "stderr",
     "output_type": "stream",
     "text": [
      "[nltk_data] Downloading package omw-1.4 to\n",
      "[nltk_data]     C:\\Users\\DELL\\AppData\\Roaming\\nltk_data...\n",
      "[nltk_data]   Package omw-1.4 is already up-to-date!\n",
      "[nltk_data] Downloading package wordnet to\n",
      "[nltk_data]     C:\\Users\\DELL\\AppData\\Roaming\\nltk_data...\n",
      "[nltk_data]   Package wordnet is already up-to-date!\n"
     ]
    },
    {
     "data": {
      "text/plain": [
       "True"
      ]
     },
     "execution_count": 21,
     "metadata": {},
     "output_type": "execute_result"
    }
   ],
   "source": [
    "nltk.download(\"omw-1.4\")\n",
    "nltk.download(\"wordnet\")"
   ]
  },
  {
   "cell_type": "code",
   "execution_count": 22,
   "metadata": {},
   "outputs": [
    {
     "name": "stdout",
     "output_type": "stream",
     "text": [
      "['zcoer', 'established', 'symbolized', 'beginning', 'new', 'era', 'technical', 'education', 'college', 'offer', 'ug', 'engineering', 'degree', 'course', 'civil', 'engineering', 'computer', 'engineering', 'electrical', 'engineering', 'information', 'technology', 'electronics', 'telecommunication', 'mechanical', 'engineering', 'college', 'also', 'offer', 'pg', 'course', 'computer', 'engineering', 'electrical', 'engineering', 'power', 'system', 'electronics', 'telecommunication', 'vlsi', 'embedded', 'system', 'mechanical', 'engineering', 'design', 'cadem', 'master', 'business', 'administration', 'institute', 'also', 'granted', 'phd', 'research', 'center', 'computer', 'engineering', 'electronics', 'telecommunication', 'mechanical', 'engineering', 'savitribai', 'phule', 'pune', 'unuversity', 'pune', 'sppu', 'since', 'college', 'experienced', 'highly', 'qualified', 'staff', 'specious', 'classroom', 'well', 'equipped', 'laboratory', 'state', 'art', 'research', 'infrastructural', 'sport', 'cultural', 'facility', 'campus', 'provides', 'excellent', 'academic', 'ambience', 'student', 'hence', 'one', 'sought', 'engineering', 'college', 'pune']\n"
     ]
    }
   ],
   "source": [
    "from nltk.stem.wordnet import WordNetLemmatizer\n",
    "\n",
    "wordnet_lemmatizer = WordNetLemmatizer()\n",
    "lemmatized_tokens = [wordnet_lemmatizer.lemmatize(token) for token in cleaned_token]\n",
    "print(lemmatized_tokens)"
   ]
  },
  {
   "cell_type": "code",
   "execution_count": 23,
   "metadata": {},
   "outputs": [
    {
     "data": {
      "text/plain": [
       "'enjoying'"
      ]
     },
     "execution_count": 23,
     "metadata": {},
     "output_type": "execute_result"
    }
   ],
   "source": [
    "wordnet_lemmatizer.lemmatize('enjoying')"
   ]
  },
  {
   "cell_type": "code",
   "execution_count": 24,
   "metadata": {},
   "outputs": [
    {
     "data": {
      "text/plain": [
       "FreqDist({'engineering': 11, 'college': 4, 'computer': 3, 'electronics': 3, 'telecommunication': 3, 'mechanical': 3, 'pune': 3, 'offer': 2, 'course': 2, 'electrical': 2, ...})"
      ]
     },
     "execution_count": 24,
     "metadata": {},
     "output_type": "execute_result"
    }
   ],
   "source": [
    "from nltk import FreqDist\n",
    "frequency_distribution = FreqDist(lemmatized_tokens)\n",
    "frequency_distribution"
   ]
  },
  {
   "cell_type": "code",
   "execution_count": null,
   "metadata": {},
   "outputs": [],
   "source": []
  }
 ],
 "metadata": {
  "kernelspec": {
   "display_name": "Python 3",
   "language": "python",
   "name": "python3"
  },
  "language_info": {
   "codemirror_mode": {
    "name": "ipython",
    "version": 3
   },
   "file_extension": ".py",
   "mimetype": "text/x-python",
   "name": "python",
   "nbconvert_exporter": "python",
   "pygments_lexer": "ipython3",
   "version": "3.11.3"
  },
  "orig_nbformat": 4
 },
 "nbformat": 4,
 "nbformat_minor": 2
}
